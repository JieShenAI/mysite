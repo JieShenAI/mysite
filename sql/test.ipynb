{
 "cells": [
  {
   "cell_type": "code",
   "execution_count": 1,
   "metadata": {},
   "outputs": [],
   "source": [
    "from pathlib import Path\n",
    "import json\n",
    "def save_json_by_dict(year,name,data_dict):\n",
    "    \"\"\"\n",
    "    \"\"\"\n",
    "    p = Path(\".\").joinpath(\"../app/static/json/%s\" % year)\n",
    "    p.mkdir(exist_ok=True)\n",
    "    p.joinpath(\"%s.json\" % name).write_text(json.dumps(data_dict))"
   ]
  },
  {
   "cell_type": "code",
   "execution_count": 3,
   "metadata": {},
   "outputs": [
    {
     "name": "stdout",
     "output_type": "stream",
     "text": [
      "46716\n"
     ]
    }
   ],
   "source": [
    "import json\n",
    "import pymysql\n",
    "\n",
    "\n",
    "# ---------连接--------------\n",
    "connect = pymysql.connect(host='cdb-o80nxgle.bj.tencentcdb.com',  # ip\n",
    "                          port=10229,  # 端口\n",
    "                          user='shenjie',\n",
    "                          password='f#8#7@@JfSD',\n",
    "                          db='Anshan_Database',\n",
    "                          charset='utf8')  # 服务器名,账户,密码，数据库名称\n",
    "cursor = connect.cursor()\n",
    "\n",
    "sql_str = \"SELECT  * FROM Statistical_Yearbook;\"\n",
    "\n",
    "cursor.execute(sql_str)\n",
    "rows = cursor.fetchall()\n",
    "print(len(rows))\n",
    "\n",
    "fields_tmp = cursor.description\n",
    "fields = [_[0] for _ in fields_tmp]\n",
    "fields = fields[1::]\n",
    "fields = fields[:-3:]\n",
    "content = {}\n",
    "\n",
    "province_json_dict = {}\n",
    "for data in rows:\n",
    "    data = data[1::]\n",
    "    data = data[:-3:]\n",
    "    row = dict(zip(fields, data))\n",
    "    for k in row.keys():\n",
    "        row[k] = str(row[k])\n",
    "    # 年份\n",
    "    year = int(row[\"STATISTICAL_YEAR\"])\n",
    "    # 省份 ADMINISTRATIVE_CODE\n",
    "    city_code = str(row[\"ADMINISTRATIVE_CODE\"])\n",
    "    province = city_code[:2:]\n",
    "    if year not in content:\n",
    "        content[year] = {}\n",
    "    if province not in content[year]:\n",
    "        content[year][province] = {}\n",
    "\n",
    "    # 'PROVINCE': '安徽省', 'CITY': '', 'COUNTY': '', 'STATISTICAL_YEAR': 1999,\n",
    "    delete_attr = ['FORMER_NAME']\n",
    "\n",
    "    for k in row.keys():\n",
    "        if row[k] is None or row[k] == 'None':\n",
    "            delete_attr.append(k)\n",
    "    for attr in delete_attr:\n",
    "        del row[attr]\n",
    "\n",
    "    if city_code[2::] == \"0000\":\n",
    "        if year not in province_json_dict:\n",
    "            province_json_dict[year] = {}\n",
    "        province_json_dict[year][city_code] = row\n",
    "    else:\n",
    "        content[year][province][city_code] = row"
   ]
  },
  {
   "cell_type": "code",
   "execution_count": 5,
   "metadata": {},
   "outputs": [],
   "source": [
    "# 将province.json写入磁盘\n",
    "for year in province_json_dict.keys():\n",
    "    save_json_by_dict(year,\"province\",province_json_dict[year])"
   ]
  },
  {
   "cell_type": "code",
   "execution_count": 6,
   "metadata": {},
   "outputs": [
    {
     "name": "stdout",
     "output_type": "stream",
     "text": [
      "1999\n",
      "2000\n",
      "2001\n",
      "2002\n",
      "2003\n",
      "2004\n",
      "2005\n",
      "2006\n",
      "2007\n",
      "2008\n",
      "2009\n",
      "2010\n",
      "2011\n",
      "2012\n",
      "2013\n",
      "2014\n",
      "2015\n",
      "2016\n",
      "2017\n",
      "2018\n",
      "1997\n",
      "1998\n",
      "2019\n",
      "2020\n"
     ]
    }
   ],
   "source": [
    "for year in content.keys():\n",
    "    print(year)\n",
    "    province_json = {}\n",
    "    for province in content[year].keys():\n",
    "        v = content[year][province]\n",
    "        json_data = json.dumps(v)\n",
    "        p = Path(\".\").joinpath(\"../app/static/json/%s\" % year)\n",
    "        p.mkdir(exist_ok=True)\n",
    "        p.joinpath(\"%s.json\" % province).write_text(json_data)"
   ]
  },
  {
   "cell_type": "code",
   "execution_count": null,
   "metadata": {},
   "outputs": [],
   "source": []
  }
 ],
 "metadata": {
  "kernelspec": {
   "display_name": "Python 3.9.12 ('base')",
   "language": "python",
   "name": "python3"
  },
  "language_info": {
   "codemirror_mode": {
    "name": "ipython",
    "version": 3
   },
   "file_extension": ".py",
   "mimetype": "text/x-python",
   "name": "python",
   "nbconvert_exporter": "python",
   "pygments_lexer": "ipython3",
   "version": "3.9.12"
  },
  "orig_nbformat": 4,
  "vscode": {
   "interpreter": {
    "hash": "2e1e609ed4275b16681bc4abde79d07778f26b9708257cdaa3e43b60c63d82f8"
   }
  }
 },
 "nbformat": 4,
 "nbformat_minor": 2
}
